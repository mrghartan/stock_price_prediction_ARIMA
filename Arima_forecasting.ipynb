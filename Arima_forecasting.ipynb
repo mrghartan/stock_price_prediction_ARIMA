{
 "cells": [
  {
   "cell_type": "code",
   "execution_count": 119,
   "id": "a95f225e-7f79-4709-9f8c-10fb61e5efae",
   "metadata": {},
   "outputs": [
    {
     "name": "stderr",
     "output_type": "stream",
     "text": [
      "C:\\Users\\nikhi\\AppData\\Local\\Temp/ipykernel_18512/3617214361.py:6: FutureWarning: The pandas.datetime class is deprecated and will be removed from pandas in a future version. Import from datetime module instead.\n",
      "  from pandas import datetime\n"
     ]
    }
   ],
   "source": [
    "import pandas as pd\n",
    "\n",
    "from statsmodels.tsa.stattools import adfuller  \n",
    "from pandas.plotting import autocorrelation_plot\n",
    "\n",
    "from pandas import datetime\n",
    "from matplotlib import pyplot\n",
    "from statsmodels.tsa.arima.model import ARIMA\n",
    "from sklearn.metrics import mean_squared_error\n",
    "from math import sqrt\n",
    "from pmdarima import auto_arima\n",
    "\n",
    "\n"
   ]
  },
  {
   "cell_type": "code",
   "execution_count": 102,
   "id": "7f4c70ae-980a-416a-8edf-09eb9c2a1fbf",
   "metadata": {},
   "outputs": [],
   "source": [
    "#Reading file"
   ]
  },
  {
   "cell_type": "code",
   "execution_count": 104,
   "id": "5fd7fea2-83d8-4601-a8f4-c3a3a5604959",
   "metadata": {},
   "outputs": [
    {
     "name": "stderr",
     "output_type": "stream",
     "text": [
      "C:\\Users\\nikhi\\AppData\\Local\\Temp/ipykernel_18512/2460311468.py:1: FutureWarning: The squeeze argument has been deprecated and will be removed in a future version. Append .squeeze(\"columns\") to the call to squeeze.\n",
      "\n",
      "\n",
      "  series= pd.read_csv('upload_DJIA_table.csv', header=0, parse_dates=[0], index_col=[0], squeeze=True)\n"
     ]
    }
   ],
   "source": [
    "series= pd.read_csv('upload_DJIA_table.csv', header=0, parse_dates=[0], index_col=[0], squeeze=True)"
   ]
  },
  {
   "cell_type": "code",
   "execution_count": 107,
   "id": "1055c006-9222-4935-adca-5738595d3fd8",
   "metadata": {},
   "outputs": [
    {
     "name": "stdout",
     "output_type": "stream",
     "text": [
      "P-value:0.6220585722348055\n"
     ]
    }
   ],
   "source": [
    "#calculationg p value\n",
    "res = adfuller(series.Open.dropna())  \n",
    "print('P-value:{}'.format(res[1]))"
   ]
  },
  {
   "cell_type": "code",
   "execution_count": 108,
   "id": "b37c7eb3-38d8-4715-8a3e-3dbe00addcfa",
   "metadata": {},
   "outputs": [
    {
     "data": {
      "text/plain": [
       "<AxesSubplot:xlabel='Lag', ylabel='Autocorrelation'>"
      ]
     },
     "execution_count": 108,
     "metadata": {},
     "output_type": "execute_result"
    },
    {
     "data": {
      "image/png": "[encoded data removed]",
      "text/plain": [
       "<Figure size 432x288 with 1 Axes>"
      ]
     },
     "metadata": {
      "needs_background": "light"
     },
     "output_type": "display_data"
    }
   ],
   "source": [
    "autocorrelation_plot(series[\"Open\"])"
   ]
  },
  {
   "cell_type": "code",
   "execution_count": 109,
   "id": "5eaef2a1-fd80-4590-8772-f54231b1322b",
   "metadata": {},
   "outputs": [
    {
     "name": "stdout",
     "output_type": "stream",
     "text": [
      "Performing stepwise search to minimize aic\n",
      " ARIMA(2,1,2)(0,0,0)[0] intercept   : AIC=25322.698, Time=2.51 sec\n",
      " ARIMA(0,1,0)(0,0,0)[0] intercept   : AIC=25330.238, Time=0.10 sec\n",
      " ARIMA(1,1,0)(0,0,0)[0] intercept   : AIC=25323.812, Time=0.24 sec\n",
      " ARIMA(0,1,1)(0,0,0)[0] intercept   : AIC=25322.979, Time=0.20 sec\n",
      " ARIMA(0,1,0)(0,0,0)[0]             : AIC=25329.300, Time=0.05 sec\n",
      " ARIMA(1,1,2)(0,0,0)[0] intercept   : AIC=25322.156, Time=2.16 sec\n",
      " ARIMA(0,1,2)(0,0,0)[0] intercept   : AIC=25321.229, Time=1.07 sec\n",
      " ARIMA(0,1,3)(0,0,0)[0] intercept   : AIC=25322.430, Time=0.53 sec\n",
      " ARIMA(1,1,1)(0,0,0)[0] intercept   : AIC=25321.808, Time=1.51 sec\n",
      " ARIMA(1,1,3)(0,0,0)[0] intercept   : AIC=25323.942, Time=2.82 sec\n",
      " ARIMA(0,1,2)(0,0,0)[0]             : AIC=25320.535, Time=0.81 sec\n",
      " ARIMA(0,1,1)(0,0,0)[0]             : AIC=25322.191, Time=0.14 sec\n",
      " ARIMA(1,1,2)(0,0,0)[0]             : AIC=25321.511, Time=0.64 sec\n",
      " ARIMA(0,1,3)(0,0,0)[0]             : AIC=25321.679, Time=0.25 sec\n",
      " ARIMA(1,1,1)(0,0,0)[0]             : AIC=25321.208, Time=0.45 sec\n",
      " ARIMA(1,1,3)(0,0,0)[0]             : AIC=25323.189, Time=1.51 sec\n",
      "\n",
      "Best model:  ARIMA(0,1,2)(0,0,0)[0]          \n",
      "Total fit time: 14.999 seconds\n"
     ]
    },
    {
     "data": {
      "text/html": [
       "<table class=\"simpletable\">\n",
       "<caption>SARIMAX Results</caption>\n",
       "<tr>\n",
       "  <th>Dep. Variable:</th>           <td>y</td>        <th>  No. Observations:  </th>    <td>1989</td>   \n",
       "</tr>\n",
       "<tr>\n",
       "  <th>Model:</th>           <td>SARIMAX(0, 1, 2)</td> <th>  Log Likelihood     </th> <td>-12657.267</td>\n",
       "</tr>\n",
       "<tr>\n",
       "  <th>Date:</th>            <td>Fri, 17 Jun 2022</td> <th>  AIC                </th>  <td>25320.535</td>\n",
       "</tr>\n",
       "<tr>\n",
       "  <th>Time:</th>                <td>15:02:01</td>     <th>  BIC                </th>  <td>25337.319</td>\n",
       "</tr>\n",
       "<tr>\n",
       "  <th>Sample:</th>                  <td>0</td>        <th>  HQIC               </th>  <td>25326.700</td>\n",
       "</tr>\n",
       "<tr>\n",
       "  <th></th>                      <td> - 1989</td>     <th>                     </th>      <td> </td>    \n",
       "</tr>\n",
       "<tr>\n",
       "  <th>Covariance Type:</th>        <td>opg</td>       <th>                     </th>      <td> </td>    \n",
       "</tr>\n",
       "</table>\n",
       "<table class=\"simpletable\">\n",
       "<tr>\n",
       "     <td></td>       <th>coef</th>     <th>std err</th>      <th>z</th>      <th>P>|z|</th>  <th>[0.025</th>    <th>0.975]</th>  \n",
       "</tr>\n",
       "<tr>\n",
       "  <th>ma.L1</th>  <td>   -0.0658</td> <td>    0.016</td> <td>   -4.232</td> <td> 0.000</td> <td>   -0.096</td> <td>   -0.035</td>\n",
       "</tr>\n",
       "<tr>\n",
       "  <th>ma.L2</th>  <td>   -0.0447</td> <td>    0.013</td> <td>   -3.530</td> <td> 0.000</td> <td>   -0.069</td> <td>   -0.020</td>\n",
       "</tr>\n",
       "<tr>\n",
       "  <th>sigma2</th> <td> 1.986e+04</td> <td>  366.548</td> <td>   54.171</td> <td> 0.000</td> <td> 1.91e+04</td> <td> 2.06e+04</td>\n",
       "</tr>\n",
       "</table>\n",
       "<table class=\"simpletable\">\n",
       "<tr>\n",
       "  <th>Ljung-Box (L1) (Q):</th>     <td>0.00</td> <th>  Jarque-Bera (JB):  </th> <td>1409.01</td>\n",
       "</tr>\n",
       "<tr>\n",
       "  <th>Prob(Q):</th>                <td>1.00</td> <th>  Prob(JB):          </th>  <td>0.00</td>  \n",
       "</tr>\n",
       "<tr>\n",
       "  <th>Heteroskedasticity (H):</th> <td>1.26</td> <th>  Skew:              </th>  <td>0.25</td>  \n",
       "</tr>\n",
       "<tr>\n",
       "  <th>Prob(H) (two-sided):</th>    <td>0.00</td> <th>  Kurtosis:          </th>  <td>7.09</td>  \n",
       "</tr>\n",
       "</table><br/><br/>Warnings:<br/>[1] Covariance matrix calculated using the outer product of gradients (complex-step)."
      ],
      "text/plain": [
       "<class 'statsmodels.iolib.summary.Summary'>\n",
       "\"\"\"\n",
       "                               SARIMAX Results                                \n",
       "==============================================================================\n",
       "Dep. Variable:                      y   No. Observations:                 1989\n",
       "Model:               SARIMAX(0, 1, 2)   Log Likelihood              -12657.267\n",
       "Date:                Fri, 17 Jun 2022   AIC                          25320.535\n",
       "Time:                        15:02:01   BIC                          25337.319\n",
       "Sample:                             0   HQIC                         25326.700\n",
       "                               - 1989                                         \n",
       "Covariance Type:                  opg                                         \n",
       "==============================================================================\n",
       "                 coef    std err          z      P>|z|      [0.025      0.975]\n",
       "------------------------------------------------------------------------------\n",
       "ma.L1         -0.0658      0.016     -4.232      0.000      -0.096      -0.035\n",
       "ma.L2         -0.0447      0.013     -3.530      0.000      -0.069      -0.020\n",
       "sigma2      1.986e+04    366.548     54.171      0.000    1.91e+04    2.06e+04\n",
       "===================================================================================\n",
       "Ljung-Box (L1) (Q):                   0.00   Jarque-Bera (JB):              1409.01\n",
       "Prob(Q):                              1.00   Prob(JB):                         0.00\n",
       "Heteroskedasticity (H):               1.26   Skew:                             0.25\n",
       "Prob(H) (two-sided):                  0.00   Kurtosis:                         7.09\n",
       "===================================================================================\n",
       "\n",
       "Warnings:\n",
       "[1] Covariance matrix calculated using the outer product of gradients (complex-step).\n",
       "\"\"\""
      ]
     },
     "execution_count": 109,
     "metadata": {},
     "output_type": "execute_result"
    }
   ],
   "source": [
    "# using autoarima to get best predictions\n",
    "step= auto_arima(series.Open, trace=True)\n",
    "step.summary()"
   ]
  },
  {
   "cell_type": "code",
   "execution_count": 68,
   "id": "43732230-9228-4ccb-996b-4c49d70e3421",
   "metadata": {},
   "outputs": [],
   "source": [
    "series.sort_index(inplace=True)\n"
   ]
  },
  {
   "cell_type": "code",
   "execution_count": 114,
   "id": "8f4d5315-da9f-450b-8315-d941cb4b9a46",
   "metadata": {},
   "outputs": [
    {
     "name": "stdout",
     "output_type": "stream",
     "text": [
      "Test RMSE: 157.716\n"
     ]
    }
   ],
   "source": [
    "X = series.Open.values\n",
    "size = int(len(X) * 0.66)\n",
    "train, test = X[0:size], X[size:len(X)]\n",
    "history = [x for x in train]\n",
    "predictions = list()\n",
    "# walk-forward validation\n",
    "for t in range(len(test)):\n",
    "    # auto arima suggest best model (0,1,2)\n",
    "    \n",
    "\tmodel = ARIMA(history, order=(0,1,2))\n",
    "\tmodel_fit = model.fit()\n",
    "\toutput = model_fit.forecast()\n",
    "\tyhat = output[0]\n",
    "\tpredictions.append(yhat)\n",
    "\tobs = test[t]\n",
    "\thistory.append(obs)\n",
    "\t# print('predicted=%f, expected=%f, diff=%f' % (yhat, obs, yhat-obs))\n",
    "# evaluate forecasts\n",
    "rmse = sqrt(mean_squared_error(test, predictions))\n",
    "print('Test RMSE: %.3f' % rmse)\n",
    "# plot forecasts against actual outcomes\n"
   ]
  },
  {
   "cell_type": "code",
   "execution_count": 115,
   "id": "d36c5de3-7558-4911-b7b3-78dba6bee813",
   "metadata": {},
   "outputs": [
    {
     "data": {
      "image/png": "[encoded data removed]",
      "text/plain": [
       "<Figure size 432x288 with 1 Axes>"
      ]
     },
     "metadata": {
      "needs_background": "light"
     },
     "output_type": "display_data"
    }
   ],
   "source": [
    "pyplot.plot(test)\n",
    "pyplot.plot(predictions, color='red')\n",
    "pyplot.show()"
   ]
  },
  {
   "cell_type": "code",
   "execution_count": null,
   "id": "d8a0c5b7-f302-4dcd-b2cc-6a19edd535db",
   "metadata": {},
   "outputs": [],
   "source": []
  }
 ],
 "metadata": {
  "kernelspec": {
   "display_name": "Python 3 (ipykernel)",
   "language": "python",
   "name": "python3"
  },
  "language_info": {
   "codemirror_mode": {
    "name": "ipython",
    "version": 3
   },
   "file_extension": ".py",
   "mimetype": "text/x-python",
   "name": "python",
   "nbconvert_exporter": "python",
   "pygments_lexer": "ipython3",
   "version": "3.9.7"
  }
 },
 "nbformat": 4,
 "nbformat_minor": 5
}
